{
 "cells": [
  {
   "cell_type": "code",
   "execution_count": 6,
   "metadata": {},
   "outputs": [
    {
     "name": "stdout",
     "output_type": "stream",
     "text": [
      "         Nom ID Référence produit   Prix  Stock\n",
      "0  Produit A               REF001  49.99    100\n",
      "1  Produit B               REF002  19.99     50\n",
      "2  Produit C               REF003  29.99     75\n",
      "3  Produit D               REF004  79.99    120\n",
      "4  Produit E               REF005  39.99     80\n"
     ]
    }
   ],
   "source": [
    "import requests\n",
    "import pandas as pd\n",
    "from io import StringIO\n",
    "\n",
    "url = \"https://docs.google.com/spreadsheets/d/e/2PACX-1vSawI56WBC64foMT9pKCiY594fBZk9Lyj8_bxfgmq-8ck_jw1Z49qDeMatCWqBxehEVoM6U1zdYx73V/pub?gid=0&single=true&output=csv\"\n",
    "\n",
    "reponse = requests.get(url)\n",
    "\n",
    "# Vérifier si la requête a réussi\n",
    "if reponse.status_code == 200:\n",
    "    # Utiliser StringIO pour convertir les données binaires en un objet fichier-like que Pandas peut lire\n",
    "    data = StringIO(reponse.content.decode('utf-8'))\n",
    "    # Créer un DataFrame à partir du contenu du CSV\n",
    "    df = pd.read_csv(data)\n",
    "    print(df.head())  # Afficher les premières lignes du DataFrame pour vérifier\n",
    "else:\n",
    "    print(\"Erreur lors du téléchargement du fichier. Code d'état HTTP:\", reponse.status_code)\n"
   ]
  },
  {
   "cell_type": "code",
   "execution_count": 7,
   "metadata": {},
   "outputs": [],
   "source": [
    "import mysql.connector\n",
    "import requests\n",
    "import pandas as pd\n",
    "from io import StringIO\n",
    "\n",
    "\n",
    "# Connexion à la base de données MariaDB\n",
    "mydb = mysql.connector.connect(\n",
    "    host=\"192.168.126.148\",\n",
    "    user=\"root\",\n",
    "    password=\"root\",\n",
    "    port=\"3306\"\n",
    ")\n",
    "\n",
    "# Création d'un curseur\n",
    "mycursor = mydb.cursor()"
   ]
  },
  {
   "cell_type": "code",
   "execution_count": 8,
   "metadata": {},
   "outputs": [],
   "source": [
    "mycursor.execute(\"USE pme_database;\")"
   ]
  },
  {
   "cell_type": "code",
   "execution_count": 9,
   "metadata": {},
   "outputs": [],
   "source": [
    "rqt = mycursor.execute(\"SHOW TABLES;\")"
   ]
  },
  {
   "cell_type": "code",
   "execution_count": 11,
   "metadata": {},
   "outputs": [],
   "source": [
    "tables = mycursor.fetchall()"
   ]
  },
  {
   "cell_type": "code",
   "execution_count": 12,
   "metadata": {},
   "outputs": [
    {
     "data": {
      "text/plain": [
       "[('magasin',), ('produit',), ('vente',)]"
      ]
     },
     "execution_count": 12,
     "metadata": {},
     "output_type": "execute_result"
    }
   ],
   "source": [
    "tables\n"
   ]
  },
  {
   "cell_type": "code",
   "execution_count": null,
   "metadata": {},
   "outputs": [],
   "source": []
  }
 ],
 "metadata": {
  "kernelspec": {
   "display_name": "data-analyst",
   "language": "python",
   "name": "python3"
  },
  "language_info": {
   "codemirror_mode": {
    "name": "ipython",
    "version": 3
   },
   "file_extension": ".py",
   "mimetype": "text/x-python",
   "name": "python",
   "nbconvert_exporter": "python",
   "pygments_lexer": "ipython3",
   "version": "3.11.6"
  }
 },
 "nbformat": 4,
 "nbformat_minor": 2
}
